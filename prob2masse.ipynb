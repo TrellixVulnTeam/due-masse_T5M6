{
 "cells": [
  {
   "cell_type": "markdown",
   "metadata": {},
   "source": [
    "# Una versione \"semplificata\" del moto dei due corpi"
   ]
  },
  {
   "cell_type": "markdown",
   "metadata": {},
   "source": [
    "Note iniziali: Il problema viene risolto con l'uso delle differenze finite. \n",
    "\n",
    "Per il calcolo delle condizioni iniziali non si è tenuto conto della conservazione del momento angolare ma solo della quantità di moto. La velocità della massa \"piccola\" viene inizializzata tangenziale, solo componente y."
   ]
  },
  {
   "cell_type": "code",
   "execution_count": 1,
   "metadata": {},
   "outputs": [],
   "source": [
    "import matplotlib.pyplot as plt\n",
    "import numpy as np\n",
    "import math"
   ]
  },
  {
   "cell_type": "code",
   "execution_count": 10,
   "metadata": {},
   "outputs": [],
   "source": [
    "#dati iniziali\n",
    "k = 1.5\n",
    "M = 30.0\n",
    "m = 0.5\n",
    "x0m = 3.0\n",
    "y0m = 0.0\n",
    "vy0m = 2.5\n",
    "dt = 0.0125\n",
    "n = 2000"
   ]
  },
  {
   "cell_type": "code",
   "execution_count": 11,
   "metadata": {},
   "outputs": [],
   "source": [
    "#massa \"piccola\"\n",
    "pxm = []\n",
    "pxm.append(x0m)\n",
    "xm = x0m\n",
    "pym = []\n",
    "pym.append(y0m)\n",
    "ym = y0m\n",
    "vxm = 0\n",
    "vym = vy0m"
   ]
  },
  {
   "cell_type": "markdown",
   "metadata": {},
   "source": [
    "La posizione $x$ della massa M viene calcolata sfruttando la definizione di centro di massa, che viene fissato nell'origine: $m \\cdot x_{0_m}+M \\cdot x_{0_M}=0$"
   ]
  },
  {
   "cell_type": "markdown",
   "metadata": {},
   "source": [
    "La velocità iniziale di M viene in una prima approssimazione sfruttando la conservazione della quantità di moto:\n",
    "$$\n",
    "\\begin{array}{ll}\n",
    "    m \\cdot v_{x_m}+M \\cdot v_{x_M}=0 & m \\cdot v_{y_m}+M \\cdot v_{y_M}=0\n",
    "\\end{array}\n",
    "$$"
   ]
  },
  {
   "cell_type": "code",
   "execution_count": 12,
   "metadata": {},
   "outputs": [],
   "source": [
    "#massa \"grande\"\n",
    "pxM = []\n",
    "pxM.append(-(m/M)*x0m)\n",
    "xM = -(m/M)*x0m\n",
    "pyM = []\n",
    "pyM.append(-(m/M)*y0m)\n",
    "yM = -(m/M)*y0m\n",
    "vxM = 0\n",
    "vyM = -(m/M)*vym"
   ]
  },
  {
   "cell_type": "markdown",
   "metadata": {},
   "source": [
    "l'accelerazione si calcola utilizzando:\n",
    "$$\n",
    "    F=k\\dfrac{m \\cdot M}{d^2}\n",
    "$$\n",
    "E sfruttando la similitudine fra il triangolo formato delle componenti della forza e il triangolo della posizione della massa (vedi figura): <img src=\"figure/duemasse.png\" width=\"500\" height=\"600\">"
   ]
  },
  {
   "cell_type": "markdown",
   "metadata": {},
   "source": [
    "detto $d=\\sqrt{(x_m-x_M)^2+(y_m-y_M)^2}$ si può costruire, ad esempio per la componente $x$, la seguente proporzione:\n",
    "$$\n",
    "    \\dfrac{\\left|\\vec{F} \\right|}{d}=\\dfrac{\\left|\\vec{F_x} \\right|}{\\left|x_M-x_m \\right|} \\; \\Rightarrow \\;\n",
    "    \\left|\\vec{F_x} \\right|=\\left|x_M-x_m \\right| \\dfrac{\\left|\\vec{F} \\right|}{d} \\; \\Rightarrow \\; \n",
    "    \\left|\\vec{F_x} \\right|=\\left|x_M-x_m \\right|\\left( k \\dfrac{m \\cdot M}{d^3} \\right)\n",
    "$$"
   ]
  },
  {
   "cell_type": "code",
   "execution_count": 9,
   "metadata": {},
   "outputs": [
    {
     "data": {
      "image/png": "[encoded data removed]",
      "text/plain": [
       "<Figure size 720x720 with 1 Axes>"
      ]
     },
     "metadata": {
      "needs_background": "light"
     },
     "output_type": "display_data"
    }
   ],
   "source": [
    "for i in range(0,n):\n",
    "    #d distanza fra le masse\n",
    "    d = math.sqrt(math.pow(xm-xM, 2)+math.pow(ym-yM, 2))\n",
    "    \"\"\"calcolo accelerazione si usa la legge di\n",
    "    gravitazione universale\"\"\"\n",
    "    axm = -k*M*(xm-xM)/math.pow(d, 3)\n",
    "    aym = -k*M*(ym-yM)/math.pow(d, 3)\n",
    "    axM = -k*m*(-xm+xM)/math.pow(d, 3)\n",
    "    ayM = -k*m*(-ym+yM)/math.pow(d, 3)\n",
    "    \"\"\"calcolo della velocità si usano le\n",
    "    differenze finite: si ipotezza il moto\n",
    "    nell'intervallo di tempo dt ad accelerazione\n",
    "    costante\"\"\"\n",
    "    vxm = vxm+axm*dt\n",
    "    vym = vym+aym*dt\n",
    "    vxM = vxM+axM*dt\n",
    "    vyM = vyM+ayM*dt\n",
    "    \"\"\"calcolo della posizione si usano le\n",
    "    differenze finite: si ipotezza il moto\n",
    "    nell'intervallo di tempo dt a velocità\n",
    "    costante\"\"\"\n",
    "    xm = xm+vxm*dt\n",
    "    pxm.append(xm)\n",
    "    ym = ym+vym*dt\n",
    "    pym.append(ym)\n",
    "    xM = xM+vxM*dt\n",
    "    pxM.append(xM)\n",
    "    yM = yM+vyM*dt\n",
    "    pyM.append(yM)\n",
    "pxm = np.array(pxm,dtype=np.float64)\n",
    "pym = np.array(pym,dtype=np.float64)\n",
    "pxM = np.array(pxM,dtype=np.float64)\n",
    "pyM = np.array(pyM,dtype=np.float64)\n",
    "plt.figure(figsize=(10,10))\n",
    "#plt.xlim([0,n+100])\n",
    "#plt.ylim([2.8,3.4])\n",
    "plt.plot(pxm, pym, 'b-',pxM,pyM,'r-')\n",
    "plt.show()"
   ]
  },
  {
   "cell_type": "code",
   "execution_count": null,
   "metadata": {},
   "outputs": [],
   "source": []
  }
 ],
 "metadata": {
  "kernelspec": {
   "display_name": "Python 3",
   "language": "python",
   "name": "python3"
  },
  "language_info": {
   "codemirror_mode": {
    "name": "ipython",
    "version": 3
   },
   "file_extension": ".py",
   "mimetype": "text/x-python",
   "name": "python",
   "nbconvert_exporter": "python",
   "pygments_lexer": "ipython3",
   "version": "3.7.7"
  }
 },
 "nbformat": 4,
 "nbformat_minor": 4
}
